{
 "cells": [
  {
   "cell_type": "code",
   "execution_count": 1,
   "id": "debf2279-5ff7-4505-9094-0c766c31312a",
   "metadata": {},
   "outputs": [],
   "source": [
    "import pandas as pd\n",
    "import numpy as np\n",
    "import tensorflow as tf\n",
    "import cv2"
   ]
  },
  {
   "cell_type": "code",
   "execution_count": 4,
   "id": "d8fd35ed-e7db-4396-81c6-d4dc3c4377f4",
   "metadata": {},
   "outputs": [],
   "source": [
    "img = cv2.imread(\"car.jpg\")\n",
    "img = cv2.imread(\"car.jpg\")\n",
    "if img is None:\n",
    "    print(\"Ошибка: изображение не загружено! Проверьте путь.\")"
   ]
  },
  {
   "cell_type": "code",
   "execution_count": 5,
   "id": "c56c869c-9f85-46fd-91c2-e220da7a773b",
   "metadata": {},
   "outputs": [],
   "source": [
    "gray_image = cv2.cvtColor(img, cv2.COLOR_BGR2GRAY)\n"
   ]
  },
  {
   "cell_type": "code",
   "execution_count": 6,
   "id": "bfb23cd1-908c-40fa-875f-6a505a9124e8",
   "metadata": {},
   "outputs": [
    {
     "data": {
      "text/plain": [
       "(1080, 1920)"
      ]
     },
     "execution_count": 6,
     "metadata": {},
     "output_type": "execute_result"
    }
   ],
   "source": [
    "inv = 255 - gray_image\n",
    "inv = inv/255\n",
    "inv= np.array(inv)\n",
    "inv.shape"
   ]
  },
  {
   "cell_type": "code",
   "execution_count": 31,
   "id": "7208e9bd-b4c1-4ec6-93f3-dbf301e59449",
   "metadata": {},
   "outputs": [],
   "source": [
    "def conv(n, data, k_size = 3):\n",
    "    new_matrix = np.array([])\n",
    "    kernel = tf.constant(np.random.randint(0, 255), shape = (k_size, k_size),  dtype = \"float64\")\n",
    "    \n",
    "    for i in range(data.shape[0] - k_size + 1):\n",
    "        for j in range(data.shape[1] - k_size +1):\n",
    "            piece_matrix = tf.constant([[data[i][j],   data[i][j + 1],   data[i][j + 2]],\n",
    "                                    [data[i + 1][j], data[i+1][j + 1], data[i + 1][j + 2]],\n",
    "                                    [data[i + 2][j], data[i+2][j + 1], data[i + 2][j + 2]]])\n",
    "            new_matrix_element = 0\n",
    "            for k in range(k_size):\n",
    "                for l in range(k_size):\n",
    "                    new_matrix_element += kernel[k][l] * piece_matrix[k][l]\n",
    "                   \n",
    "            new_matrix = np.append(new_matrix, new_matrix_element)\n",
    "            \n",
    "            \n"
   ]
  },
  {
   "cell_type": "code",
   "execution_count": null,
   "id": "e5151952-a668-4e5b-9c2e-1c9456d4e74d",
   "metadata": {},
   "outputs": [],
   "source": [
    "conv(5, inv)"
   ]
  },
  {
   "cell_type": "code",
   "execution_count": null,
   "id": "2b1a4dc3-f002-4d5a-a347-25b2bc45bd34",
   "metadata": {},
   "outputs": [],
   "source": []
  }
 ],
 "metadata": {
  "kernelspec": {
   "display_name": "Python 3 (ipykernel)",
   "language": "python",
   "name": "python3"
  },
  "language_info": {
   "codemirror_mode": {
    "name": "ipython",
    "version": 3
   },
   "file_extension": ".py",
   "mimetype": "text/x-python",
   "name": "python",
   "nbconvert_exporter": "python",
   "pygments_lexer": "ipython3",
   "version": "3.12.9"
  }
 },
 "nbformat": 4,
 "nbformat_minor": 5
}
